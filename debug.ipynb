{
 "cells": [
  {
   "cell_type": "code",
   "execution_count": 1,
   "id": "712b5d45",
   "metadata": {},
   "outputs": [
    {
     "name": "stdout",
     "output_type": "stream",
     "text": [
      "                                              prompt  \\\n",
      "0  [112, 117, 116, 32, 116, 104, 101, 32, 98, 114...   \n",
      "1  [112, 117, 116, 32, 116, 104, 101, 32, 98, 114...   \n",
      "2  [112, 117, 116, 32, 116, 104, 101, 32, 98, 114...   \n",
      "3  [112, 117, 116, 32, 116, 104, 101, 32, 98, 114...   \n",
      "4  [112, 117, 116, 32, 116, 104, 101, 32, 98, 114...   \n",
      "\n",
      "                                  finegrained_prompt  \\\n",
      "0  [116, 104, 101, 32, 114, 105, 103, 104, 116, 3...   \n",
      "1  [116, 104, 101, 32, 114, 105, 103, 104, 116, 3...   \n",
      "2  [116, 104, 101, 32, 114, 105, 103, 104, 116, 3...   \n",
      "3  [116, 104, 101, 32, 114, 105, 103, 104, 116, 3...   \n",
      "4  [116, 104, 101, 32, 114, 105, 103, 104, 116, 3...   \n",
      "\n",
      "           cartesian_so3_dict.cartesian_pose_command  \\\n",
      "0  [0.023489151355510197, -1.180070401741668e-06,...   \n",
      "1  [0.0233536449163749, -1.1805681439408053e-06, ...   \n",
      "2  [0.023258986177437095, -1.1809158442164397e-06...   \n",
      "3  [0.0231357024196525, -1.1813686899717343e-06, ...   \n",
      "4  [0.023004834233195888, -1.1818493950951404e-06...   \n",
      "\n",
      "                 joints_dict.joints_position_command  \\\n",
      "0  [0.15029762861237414, -0.0017609224873182013, ...   \n",
      "1  [0.15029762861237414, -0.0017609224873182013, ...   \n",
      "2  [0.15031489202942455, -0.001778185904368592, -...   \n",
      "3  [0.15033215544647494, -0.0017954493214189828, ...   \n",
      "4  [0.15033215544647494, -0.0017954493214189828, ...   \n",
      "\n",
      "                   joints_dict.joints_position_state  \\\n",
      "0  [0.15029762861237414, -0.0017609224873182013, ...   \n",
      "1  [0.15029762861237414, -0.0017609224873182013, ...   \n",
      "2  [0.15033215544647494, -0.0017954493214189828, ...   \n",
      "3  [0.15033215544647494, -0.0017954493214189828, ...   \n",
      "4  [0.15033215544647494, -0.0017954493214189828, ...   \n",
      "\n",
      "             cartesian_so3_dict.cartesian_pose_state  timestamp  frame_index  \\\n",
      "0  [0.02676292055503032, -1.1680451897034856e-06,...   0.000000            0   \n",
      "1  [0.027044097797189304, -1.1670123681051566e-06...   0.033333            1   \n",
      "2  [0.027328274530674653, -1.1659685289517765e-06...   0.066667            2   \n",
      "3  [0.027462480839470494, -1.1654755615682686e-06...   0.100000            3   \n",
      "4  [0.027628210249143904, -1.1648668035303991e-06...   0.133333            4   \n",
      "\n",
      "   episode_index  index task_index sub_task_index  \n",
      "0              0      0    [1, 17]        [0, 60]  \n",
      "1              0      1    [1, 17]        [1, 59]  \n",
      "2              0      2    [1, 17]        [2, 58]  \n",
      "3              0      3    [1, 17]        [3, 57]  \n",
      "4              0      4    [1, 17]        [4, 56]  \n"
     ]
    }
   ],
   "source": [
    "import pandas as pd\n",
    "\n",
    "file_path = \"/kpfs-regular/share_space/data/lerobot_data_aliyun/s1_data/diversity_finetune/20250915_Grab_pen_holder_s1_26/data/chunk-000/episode_000000.parquet\"\n",
    "\n",
    "# 读取整个 parquet 文件\n",
    "df = pd.read_parquet(file_path)\n",
    "\n",
    "print(df.head())  # 查看前几行\n"
   ]
  },
  {
   "cell_type": "code",
   "execution_count": 8,
   "id": "c8d23277",
   "metadata": {},
   "outputs": [
    {
     "data": {
      "text/plain": [
       "array([ True,  True,  True,  True,  True,  True,  True,  True,  True,\n",
       "        True,  True,  True,  True,  True,  True, False, False, False,\n",
       "       False, False, False, False, False, False, False, False, False,\n",
       "       False, False, False, False, False, False, False, False, False,\n",
       "       False, False, False, False, False, False, False, False, False,\n",
       "       False, False, False, False, False, False,  True, False, False,\n",
       "       False, False,  True, False, False, False, False,  True, False,\n",
       "       False, False,  True, False, False, False, False, False, False,\n",
       "        True,  True,  True,  True,  True,  True,  True,  True,  True,\n",
       "        True,  True,  True,  True,  True,  True,  True,  True,  True,\n",
       "        True,  True,  True,  True,  True,  True,  True,  True,  True,\n",
       "        True,  True,  True,  True,  True,  True,  True,  True,  True,\n",
       "        True,  True,  True,  True,  True,  True,  True,  True,  True,\n",
       "        True,  True,  True,  True,  True,  True,  True,  True,  True,\n",
       "        True,  True])"
      ]
     },
     "execution_count": 8,
     "metadata": {},
     "output_type": "execute_result"
    }
   ],
   "source": [
    "df.iloc[0]['finegrained_prompt'] == df.iloc[100]['finegrained_prompt']"
   ]
  },
  {
   "cell_type": "code",
   "execution_count": 9,
   "id": "801604e3",
   "metadata": {},
   "outputs": [
    {
     "data": {
      "text/plain": [
       "array([ True,  True,  True,  True,  True,  True,  True,  True,  True,\n",
       "        True,  True,  True,  True,  True,  True,  True,  True,  True,\n",
       "        True,  True,  True,  True,  True,  True,  True,  True,  True,\n",
       "        True,  True,  True,  True,  True,  True,  True,  True,  True,\n",
       "        True,  True,  True,  True,  True,  True,  True,  True,  True,\n",
       "        True,  True,  True,  True,  True,  True,  True,  True,  True,\n",
       "        True,  True,  True,  True,  True,  True,  True,  True,  True,\n",
       "        True,  True,  True,  True,  True,  True,  True,  True,  True,\n",
       "        True,  True,  True,  True,  True,  True,  True,  True,  True,\n",
       "        True,  True,  True,  True,  True,  True,  True,  True,  True,\n",
       "        True,  True,  True,  True,  True,  True,  True,  True,  True,\n",
       "        True,  True,  True,  True,  True,  True,  True,  True,  True,\n",
       "        True,  True,  True,  True,  True,  True,  True,  True,  True,\n",
       "        True,  True,  True,  True,  True,  True,  True,  True,  True,\n",
       "        True,  True])"
      ]
     },
     "execution_count": 9,
     "metadata": {},
     "output_type": "execute_result"
    }
   ],
   "source": [
    "df.iloc[0]['prompt'] == df.iloc[100]['prompt']"
   ]
  },
  {
   "cell_type": "code",
   "execution_count": 8,
   "id": "c452e8a3",
   "metadata": {},
   "outputs": [
    {
     "name": "stdout",
     "output_type": "stream",
     "text": [
      "(34,)\n"
     ]
    }
   ],
   "source": [
    "# 假设存储在 \"cartesian_so3_dict\" 列里\n",
    "first_row = df.iloc[0]  # 第一条数据\n",
    "pose_command = first_row['cartesian_so3_dict.cartesian_pose_state']  # dict 对象\n",
    "\n",
    "print(pose_command.shape)"
   ]
  },
  {
   "cell_type": "code",
   "execution_count": null,
   "id": "21c23e4d",
   "metadata": {},
   "outputs": [],
   "source": [
    "from openpi.transforms import GetDimRange\n",
    "class GetDimRange(DataTransformFn):\n",
    "    key: list[str]\n",
    "    dim: list[list[int]]\n",
    "\n",
    "    def __call__(self, data: DataDict) -> DataDict:\n",
    "        for k, d in zip(self.key, self.dim):\n",
    "            data[k] = data[k][...,d]\n",
    "        return data"
   ]
  },
  {
   "cell_type": "code",
   "execution_count": 23,
   "id": "9ca660fb",
   "metadata": {},
   "outputs": [],
   "source": [
    "dim=[[0, 1, 2, 3, 4, 5, 6, 7, 8, 9, 10, 11, 12, 13, 14, 15, 16, 17, 18, 19, 20, 21, 22, 23, 24, 25, 26, 27, 28], \n",
    "    [0, 1, 2, 3, 4, 5, 6, 7, 8, 9, 10, 11, 12, 13, 14, 15, 16, 17, 18, 19, 20, 21, 22, 23, 24, 25, 26, 27, 28]]"
   ]
  },
  {
   "cell_type": "code",
   "execution_count": null,
   "id": "ccf3f277",
   "metadata": {},
   "outputs": [],
   "source": [
    "GetDimRange"
   ]
  },
  {
   "cell_type": "code",
   "execution_count": 24,
   "id": "8afce7af",
   "metadata": {},
   "outputs": [],
   "source": [
    "trans = GetDimRange([pose_command,pose_command], dim)\n"
   ]
  },
  {
   "cell_type": "code",
   "execution_count": 25,
   "id": "52b8f9f8",
   "metadata": {},
   "outputs": [
    {
     "data": {
      "text/plain": [
       "(34,)"
      ]
     },
     "execution_count": 25,
     "metadata": {},
     "output_type": "execute_result"
    }
   ],
   "source": [
    "trans.key[0].shape"
   ]
  },
  {
   "cell_type": "code",
   "execution_count": 22,
   "id": "e28e6314",
   "metadata": {},
   "outputs": [
    {
     "data": {
      "text/plain": [
       "GetDimRange(key=[array([ 8.56327817e-03, -1.23489607e-06,  1.20209233e+00,  9.96591329e-01,\n",
       "        2.34626540e-02,  7.90899960e-02, -2.35361142e-02,  9.99722987e-01,\n",
       "       -3.37789008e-06,  3.30925792e-01,  2.27052723e-01,  8.61033614e-01,\n",
       "        1.93830912e-01, -9.79110161e-01, -6.14236944e-02,  9.77731139e-01,\n",
       "        1.87665015e-01,  9.39343476e-02,  1.37065885e-02,  2.74209010e-01,\n",
       "       -2.57456025e-01,  8.71323224e-01, -1.56249006e-01, -9.87575445e-01,\n",
       "        1.67626944e-02,  9.87700764e-01, -1.56323199e-01, -3.20292173e-03,\n",
       "       -4.58181022e-03, -3.24423514e-02,  7.78269856e-01,  2.04402095e-02,\n",
       "       -1.49158081e-02, -1.04700095e-01]), array([ 8.56327817e-03, -1.23489607e-06,  1.20209233e+00,  9.96591329e-01,\n",
       "        2.34626540e-02,  7.90899960e-02, -2.35361142e-02,  9.99722987e-01,\n",
       "       -3.37789008e-06,  3.30925792e-01,  2.27052723e-01,  8.61033614e-01,\n",
       "        1.93830912e-01, -9.79110161e-01, -6.14236944e-02,  9.77731139e-01,\n",
       "        1.87665015e-01,  9.39343476e-02,  1.37065885e-02,  2.74209010e-01,\n",
       "       -2.57456025e-01,  8.71323224e-01, -1.56249006e-01, -9.87575445e-01,\n",
       "        1.67626944e-02,  9.87700764e-01, -1.56323199e-01, -3.20292173e-03,\n",
       "       -4.58181022e-03, -3.24423514e-02,  7.78269856e-01,  2.04402095e-02,\n",
       "       -1.49158081e-02, -1.04700095e-01])], dim=[[0, 1, 2, 3, 4, 5, 6, 7, 8, 9, 10, 11, 12, 13, 14, 15, 16, 17, 18, 19, 20, 21, 22, 23, 24, 25, 26, 27, 28, 29], [0, 1, 2, 3, 4, 5, 6, 7, 8, 9, 10, 11, 12, 13, 14, 15, 16, 17, 18, 19, 20, 21, 22, 23, 24, 25, 26, 27, 28, 29]])"
      ]
     },
     "execution_count": 22,
     "metadata": {},
     "output_type": "execute_result"
    }
   ],
   "source": [
    "trans"
   ]
  },
  {
   "cell_type": "code",
   "execution_count": 26,
   "id": "446a3548",
   "metadata": {},
   "outputs": [],
   "source": [
    "actions = [-1.6138e-02, -1.3256e-06,  1.1987e+00,  9.9617e-01, -6.8710e-02,\n",
    "         5.4153e-02,  6.8812e-02,  9.9763e-01, -3.4743e-06,  3.1504e-01,\n",
    "         2.3752e-01,  9.2034e-01,  7.0947e-01, -6.9684e-01, -1.0520e-01,\n",
    "         5.7762e-01,  6.6050e-01, -4.7967e-01,  0.0000e+00,  4.6169e-01,\n",
    "         1.5125e-02,  9.3137e-01, -2.9448e-01, -8.9661e-01, -3.3072e-01,\n",
    "         9.3417e-01, -3.4305e-01,  9.8221e-02,  1.0000e+02,  2.0750e-01,\n",
    "         7.9028e-01, -1.3000e-02,  2.2667e-02, -5.2202e-02]"
   ]
  },
  {
   "cell_type": "code",
   "execution_count": 27,
   "id": "60b9d137",
   "metadata": {},
   "outputs": [
    {
     "data": {
      "text/plain": [
       "34"
      ]
     },
     "execution_count": 27,
     "metadata": {},
     "output_type": "execute_result"
    }
   ],
   "source": [
    "len(actions)"
   ]
  },
  {
   "cell_type": "code",
   "execution_count": null,
   "id": "bafa8545",
   "metadata": {},
   "outputs": [],
   "source": []
  }
 ],
 "metadata": {
  "kernelspec": {
   "display_name": ".venv",
   "language": "python",
   "name": "python3"
  },
  "language_info": {
   "codemirror_mode": {
    "name": "ipython",
    "version": 3
   },
   "file_extension": ".py",
   "mimetype": "text/x-python",
   "name": "python",
   "nbconvert_exporter": "python",
   "pygments_lexer": "ipython3",
   "version": "3.11.11"
  }
 },
 "nbformat": 4,
 "nbformat_minor": 5
}
